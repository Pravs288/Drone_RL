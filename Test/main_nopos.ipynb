{
 "cells": [
  {
   "cell_type": "code",
   "execution_count": 1,
   "metadata": {
    "pycharm": {
     "is_executing": false,
     "metadata": false,
     "name": "#%%\n"
    }
   },
   "outputs": [],
   "source": [
    "%load_ext autoreload\n",
    "%autoreload 2"
   ]
  },
  {
   "cell_type": "code",
   "execution_count": 2,
   "metadata": {
    "pycharm": {
     "metadata": false,
     "name": "#%%\n"
    }
   },
   "outputs": [
    {
     "name": "stdout",
     "output_type": "stream",
     "text": [
      "C:\\PyCharm_Workspace\\Drone_RL\\Test\n"
     ]
    }
   ],
   "source": [
    "\n",
    "import os\n",
    "print(os.getcwd())\n",
    "\n",
    "import numpy as np\n",
    "import matplotlib.pyplot as plt\n",
    "import matplotlib\n",
    "import random\n",
    "\n",
    "from Source.MIMO import plotbeam\n",
    "from Source.RF_Env_nopos import RFBeamEnv, Generate_BeamDir\n",
    "from Source.RL_Agent_nopos import RL_Agent, get_Values\n"
   ]
  },
  {
   "cell_type": "code",
   "execution_count": null,
   "metadata": {
    "pycharm": {
     "metadata": false,
     "name": "#%%\n"
    }
   },
   "outputs": [],
   "source": [
    "def E_CDF(data):\n",
    "    arr_data = np.sort(data)\n",
    "    x_values = np.linspace(start=min(arr_data), stop=max(arr_data),num=len(arr_data))\n",
    "    y_values = []\n",
    "    \n",
    "    for val in x_values:\n",
    "        temp = arr_data[arr_data <= val]\n",
    "        value = len(temp)/len(arr_data)\n",
    "        y_values.append(value)\n",
    "    \n",
    "    return x_values, y_values"
   ]
  },
  {
   "cell_type": "code",
   "execution_count": null,
   "metadata": {
    "pycharm": {
     "metadata": false,
     "name": "#%%\n"
    }
   },
   "outputs": [],
   "source": [
    "#X_t = X_0 + v_k(t)\n",
    "\n",
    "def play_one_episode(agent, eps, ue,vel):\n",
    "    obs = agent.env.reset(ue, vel)\n",
    "    #print(\"Estimated UE loc: {0}\".format(obs))\n",
    "    total_rwd= 0\n",
    "    done = False\n",
    "    #possible_ue_loc = [[x,ue_s[1],ue_s[2]] for x in range(ue_s[0]+ue_v,ue_s[0]+ue_tdist+1,ue_v)]\n",
    "    steps = 0\n",
    "    cur_ue = np.array(ue)\n",
    "    while not done:\n",
    "        #ue_eps = eps*(1-iters/(N+10))\n",
    "        action = agent.sample_action(obs, eps)\n",
    "        #print(\"action: {0}\".format(action))\n",
    "\n",
    "        prev_obs = np.array(obs)\n",
    "\n",
    "        obs, rwd, done = agent.env.step(action)\n",
    "        agent.Update_Q(prev_obs, action, obs, rwd)\n",
    "        \n",
    "        \n",
    "        cur_ue[0] += vel\n",
    "        #rint(\"cur_ue: {0}\".format(cur_ue))\n",
    "        print(\"obs: {0}, rwd: {1}\".format(prev_obs, rwd))\n",
    "        print(\"Rate observed: {0}, LosRate: {1}\".format(agent.env.get_Rate(), agent.env.get_LoS_Rate(cur_ue)))\n",
    "        \n",
    "        total_rwd+= rwd\n",
    "        steps+=1\n",
    "    print(\"Total steps: {0}\".format(steps))\n",
    "    return total_rwd"
   ]
  },
  {
   "cell_type": "code",
   "execution_count": null,
   "metadata": {
    "pycharm": {
     "metadata": false,
     "name": "#%%\n"
    }
   },
   "outputs": [],
   "source": [
    "#X_t = X_0 + v_k(t)\n",
    "\n",
    "if __name__ == \"__main__\":\n",
    "    \n",
    "    \n",
    "    #RFBEam Env parameters\n",
    "    Env_Info = {\n",
    "        'N_tx': 1,\n",
    "        'N_rx': 8,\n",
    "        'ptx': 30,\n",
    "        'sc_xyz' : np.array([[0,50,0], [20,50,0]]),\n",
    "        'ch_model': 'fsp-nlos',\n",
    "        'alpha': 0, #degree of orientation\n",
    "        'ue_s': np.array([0,100,0]),\n",
    "        'ue_d': np.array([100,100,0]),\n",
    "        'ue_v': 20,\n",
    "        'gnB': np.array([[0,0,0], [20,30,0], [40,60,0]]),\n",
    "        'SF_time': 20\n",
    "    }\n",
    "    \n",
    "    \n",
    "    \n",
    "    \n",
    "    \n",
    "    #print(ue_loc)\n",
    "    \n",
    "    #Agent_Info\n",
    "    #Agent Parameters\n",
    "    ag_info = {\n",
    "        'alpha': 0.5,\n",
    "        'gamma': 0.99,\n",
    "        'ue_loc': np.array([np.array([x, ue_s[1], ue_s[2]]) for x in range(ue_s[0], ue_d[0]+1, ue_v)]),\n",
    "        'env': RFBeamEnv(Env_Info) \n",
    "    }\n",
    "    \n",
    "    #UE parameters\n",
    "    ue_s = Env_Info['ue_s'] #[[10,15,0], [20,15,0], [40,15,0], [60,15,0]]\n",
    "    ue_d = Env_Info['ue_d']\n",
    "    ue_v = Env_Info['ue_v'] #, 9, 10, 12]\n",
    "    ue_loc = ag_info['ue_loc']\n",
    "    \n",
    "    #sc_xyz=np.array([[0,50,0], [20,50,0]])#[10,50,0], [20,50,0]])\n",
    "    #ch_model = 'fsp-nlos'\n",
    "    #env = RFBeamEnv(Env_Info)\n",
    "    #alpha = 0.5\n",
    "    #gamma =  0.99\n",
    "    \n",
    "    #hyper-parameters\n",
    "    rate_thr = 0.5\n",
    "    epsilon_max = 1.00\n",
    "    epsilon_min = 0.05\n",
    "    epsilon_decay = 0.9993\n",
    "    \n",
    "    \n",
    "    agent = RL_Agent(ag_info)\n",
    "    #agent.env.set_rate_threshold(rate_thr)\n",
    "    #agent.env.set_goal(ue_d)\n",
    "    print(\"Ptx: {0}\".format(agent.env.ptx))\n",
    "    #agent.env.set_Goal(self, ue_d)\n",
    "    \n",
    "    #Training\n",
    "    M = 1#no. of episodes\n",
    "    ep_ndx = 0\n",
    "    ep_rwds = []\n",
    "    k = -1\n",
    "    eps = epsilon_max\n",
    "    while (ep_ndx < M):\n",
    "        print(\"\\nEpisode: {0}\".format(ep_ndx+1))\n",
    "        \n",
    "        if (eps >= epsilon_min):\n",
    "            eps *= epsilon_decay\n",
    "        else:\n",
    "            eps = epsilon_min\n",
    "        #eps = 0.3 #*(1-ep_ndx/(M+5))\n",
    "        rwd = play_one_episode(agent, eps, ue_s, ue_v)\n",
    "        ep_rwds.append(rwd)\n",
    "        \n",
    "        ep_ndx += 1\n",
    "        \n",
    "    \n",
    "    print(\"Training Done!!\")\n",
    "    #print(\"After episode: {0}\".format(agent.Q))\n"
   ]
  },
  {
   "cell_type": "code",
   "execution_count": null,
   "metadata": {
    "pycharm": {
     "metadata": false,
     "name": "#%%\n"
    }
   },
   "outputs": [],
   "source": [
    "    #Save the Q-table dictionary into a file\n",
    "    '''\n",
    "    file = open('Q_data.txt', 'w')\n",
    "    qsize_count = 0\n",
    "    for k1, act in agent.Q.items():\n",
    "        for k2,v2 in act.items():\n",
    "            qsize_count += 1\n",
    "            #print(k1)\n",
    "            #print(k1.strip())\n",
    "            #break\n",
    "            file.write('UE_loc: ' + k1 + '\\t' + 'Action: '+ k2  +'\\t'+ 'Value: ' + str(v2) + '\\n')\n",
    "        file.write('\\n')\n",
    "        #break\n",
    "    file.close()\n",
    "    \n",
    "    print(\"Q_table size: {0}, Training_iters: {1}\".format(qsize_count, M))\n",
    "    '''\n",
    "    file = open('Q_data.txt', 'w')\n",
    "    qsize_count = 0\n",
    "    for i in range(agent.Q.shape[0]):\n",
    "        for j in range(agent.Q.shape[1]):\n",
    "            qsize_count += 1\n",
    "            #print(k1)\n",
    "            #print(k1.strip())\n",
    "            #break\n",
    "            \n",
    "            file.write('obs: ' + str(get_Values(agent.obs_dtypes, agent.obs_map[i])) + '\\t' + 'Action: '+ str(get_Values(agent.act_dtypes, agent.act_map[j])[0])  +'\\t'+ 'Value: ' + str(agent.Q[i,j]) + '\\n')\n",
    "        file.write('\\n')\n",
    "        #break\n",
    "    file.close()\n",
    "    \n",
    "    print(\"Q_table size: {0}, Training_iters: {1}\".format(qsize_count, M))\n",
    "    \n",
    "    \n",
    "    \n"
   ]
  },
  {
   "cell_type": "code",
   "execution_count": null,
   "metadata": {
    "pycharm": {
     "metadata": false,
     "name": "#%%\n"
    }
   },
   "outputs": [],
   "source": [
    "    '''\n",
    "    #X_t = X_(t-1) + delta_p    \n",
    "    \n",
    "    #plot of avg rwds for each location\n",
    "    y1 = ep_rwds[0]\n",
    "    x1 = np.array(range(1,len(ep_rwds[0])+1))\n",
    "    \n",
    "    for i in range(len(ep_rwds)):\n",
    "        yi = ep_rwds[0]\n",
    "        num = len(ep_rwds[0])\n",
    "        xi = np.array(range(1+i*num, 1+(i+1)*num))\n",
    "        plt.plot(xi,yi)\n",
    "    '''"
   ]
  },
  {
   "cell_type": "code",
   "execution_count": null,
   "metadata": {
    "pycharm": {
     "metadata": false,
     "name": "#%%\n"
    }
   },
   "outputs": [],
   "source": [
    "    \n",
    "    #X_t = X_0 + v + delta_p + pi_t\n",
    "    #Avrage Rwd vs Steps for epsilon hyper-parameter\n",
    "    steps = [x for x in range(1,len(ep_rwds)+1, 200)]\n",
    "    #print(steps)\n",
    "    \n",
    "    y = np.zeros(len(steps))\n",
    "    x = steps[:]\n",
    "    for i in range(0, len(y)):\n",
    "        y[i] = np.sum(ep_rwds[:steps[i]])/(steps[i])\n",
    "    \n",
    "    #print(x)\n",
    "    #print(y)\n",
    "    plt.plot(x,y)\n",
    "    plt.xlabel('steps')\n",
    "    plt.ylabel('Avg rwd')\n",
    "        "
   ]
  },
  {
   "cell_type": "code",
   "execution_count": null,
   "metadata": {
    "pycharm": {
     "metadata": false,
     "name": "#%%\n"
    }
   },
   "outputs": [],
   "source": [
    "    #Benchmark Models\n",
    "    possible_ue_loc = np.array([np.array([x,ue_s[1],ue_s[2]]) for x in range(ue_s[0]+ue_v,ue_d[0]+1,ue_v)])\n",
    "    Exh_rates = np.zeros((1,possible_ue_loc.shape[0]))\n",
    "    Los_rates = np.zeros((1,possible_ue_loc.shape[0]))\n",
    "    Exh_bdir = np.zeros((1,possible_ue_loc.shape[0]))\n",
    "        \n",
    "        #print(possible_ue_loc)\n",
    "    for j in range(Exh_rates.shape[0]): \n",
    "\n",
    "        for i in range(possible_ue_loc.shape[0]):\n",
    "            ue_t = np.array(possible_ue_loc[i])\n",
    "            exh_bdir, exh_rate = agent.env.get_Exh_Rate(ue_t)\n",
    "            los_rate = agent.env.get_LoS_Rate(ue_t)\n",
    "            print(\"ue: {0}, los_rate: {1}, exh_rate: {2}\\n\".format(ue_t,los_rate, exh_rate))\n",
    "            Exh_rates[j,i]=exh_rate\n",
    "            Los_rates[j,i]= los_rate\n",
    "            Exh_bdir[j, i]= exh_bdir\n",
    "\n",
    "    \n",
    "    fig=plt.figure(figsize=(12,12))\n",
    "    # = list(range(len(learnt_rates)))\n",
    "    ue_x =[str(x.tolist()) for x in possible_ue_loc]\n",
    "    exh_y = np.mean(Exh_rates,axis=0) #[np.mean(Exh_rates[:, i]) for i in range(len(ue_x))]\n",
    "    Los_y = np.mean(Los_rates, axis=0)\n",
    "    plt.plot(ue_x, Los_y, 'b-', ue_x, exh_y, 'g-')\n",
    "    #plt.plot(ue_x, Los_rates,'bx-', ue_x, Exh_rates, 'g-')\n",
    "    plt.legend([\"LoS rate\", \"Exh rate\"])\n",
    "    #plt.title(\"UE moving from {0} to {1} with gnB at {2}\".format(ue_s, ue_d, [0,0,0]))\n",
    "    #plt.ylabel('Rate (Gbit/s)')\n",
    "    #plt.xlabel('UE loc')\n",
    "    #plt.yticks(np.arange(2.1, 2.4, step=0.1))\n",
    "    #y0 = np.mean(Exh_rates)\n",
    "    #plt.axhline(np.mean(y0), color='g', linewidth=0.75, linestyle='--')\n",
    "    \n",
    "    #y0 = np.mean(Los_rates)\n",
    "    #plt.axhline(np.mean(y0), color='b', linewidth=0.75, linestyle='--') \n",
    "    \n",
    "    \n",
    "    plt.show()"
   ]
  },
  {
   "cell_type": "code",
   "execution_count": null,
   "metadata": {
    "pycharm": {
     "metadata": false,
     "name": "#%%\n"
    }
   },
   "outputs": [],
   "source": [
    "    #Plot Beamset\n",
    "    beamset = Generate_BeamDir(agent.N)\n",
    "    fig, axs = plt.subplots(nrows=4,ncols=2,subplot_kw=dict(polar=True), figsize=(10, 10))\n",
    "    axs = axs.flatten()\n",
    "    \n",
    "    for i in range(len(beamset)):\n",
    "        xi,yi = plotbeam(beamset[i][0], agent.N)\n",
    "        axs[i].plot(xi,yi)\n",
    "        axs[i].set_title(\"Beam direction {0}:\".format(i+1))\n",
    "    fig.tight_layout()\n",
    "    plt.show()"
   ]
  },
  {
   "cell_type": "code",
   "execution_count": null,
   "metadata": {
    "pycharm": {
     "metadata": false,
     "name": "#%%\n"
    }
   },
   "outputs": [],
   "source": [
    "    #X_t = X_0 + v + delta_p + pi_t\n",
    "    learnt_rates = []\n",
    "    Exh_rates = []\n",
    "    Los_rates = []\n",
    "    obs = agent.env.reset(ue_s, ue_v) #ue_t sent to gnB1\n",
    "    print(\"Initial Loc: {0}\".format(ue_s))\n",
    "    \n",
    "    #x1,y1 = plotbeam(0.5,obs[0], agent.N)\n",
    "    x2,y2 = plotbeam(obs[1][0], agent.N)\n",
    "    \n",
    "    #fig, axs = plt.subplots(nrows=1, ncols=1, subplot_kw=dict(polar=True))\n",
    "    #axs = axs.flatten()\n",
    "    #axs[0].plot(x1,y1)\n",
    "    #axs[0].set_title(\"Initial TBD\")\n",
    "\n",
    "    ax = plt.subplot(111, projection='polar')\n",
    "    ax.plot(x2, y2)\n",
    "\n",
    "    ax.set_title(\"Initial RBD for loc: {0}\".format(ue_s))\n",
    "\n",
    "    #fig.tight_layout()\n",
    "    plt.show()\n",
    "\n",
    "    \n",
    "    for i in range(possible_ue_loc.shape[0]):\n",
    "        ue_t = np.array(possible_ue_loc[i])\n",
    "        \n",
    "        action, action_val = agent.Best_Action(obs) #gnB1 selects best action for given 'obs'\n",
    "        \n",
    "        #print(\"action RX Beam: {0}\".format(action))\n",
    "        x1,y1 = plotbeam(action[0], agent.N)\n",
    "        \n",
    "        \n",
    "        #print(action)\n",
    "        obs, rwd, done = agent.env.step(action)\n",
    "        rate = agent.env.get_Rate()\n",
    "        learnt_rates.append(rate)\n",
    "        \n",
    "        exh_bdir, exh_rate = agent.env.get_Exh_Rate(obs[0])\n",
    "        Exh_rates.append(exh_rate)\n",
    "        #print(\"Exh best RX Beam:{0}\".format(Exh_bdir[i]))\n",
    "        x3,y3 = plotbeam(exh_bdir[0], agent.N)\n",
    "        \n",
    "        aoa = np.arctan2(ue_t[1],ue_t[0])\n",
    "        #print(\"LoS RX Beam:{0}\".format(aoa))\n",
    "\n",
    "        los_rate = agent.env.get_LoS_Rate(obs[0])\n",
    "        Los_rates.append(los_rate)\n",
    "        x2, y2 = plotbeam(aoa, agent.N)\n",
    "        \n",
    "        \n",
    "        \n",
    "        fig, axs = plt.subplots(nrows=1, ncols=3, subplot_kw=dict(polar=True), figsize=(10, 10))\n",
    "        \n",
    "        axs = axs.flatten()\n",
    "        axs[0].plot(x1,y1)\n",
    "        axs[0].set_title(\"RX Beam for loc: {0}\".format(ue_t))\n",
    "        \n",
    "        axs[2].plot(x2,y2)\n",
    "        axs[2].set_title(\"LoS RX Beam for loc: {0}\".format(ue_t))\n",
    "        \n",
    "        axs[1].plot(x3,y3)\n",
    "        axs[1].set_title(\"Exh best RX Beam for loc: {0}\".format(ue_t))\n",
    "        \n",
    "        fig.tight_layout()\n",
    "        #plt.title(\"Action: RL RX beam           Loc: {0}                        LoS RX beam\".format(ue_t))\n",
    "        plt.show()\n",
    "        \n",
    "        \n",
    "        print(\"\\nLocation: {0}\".format(ue_t))\n",
    "        print(\"curr Exh rate: {0}, curr exh bdir: {1}\".format(exh_rate, exh_bdir[0]))\n",
    "        print(\"ue_{0}: {1}, best_action_val: {2}, Learnt Rate: {3}\".format(i+1, ue_t, action_val, rate))\n",
    "        print(\"Learnt Rate: {0}, Exh_rate: {1}, LoS rate: {2}\".format(rate, exh_rate, los_rate))\n",
    "        print(\"RL RX beam: {0}, Exh RX beam: {1}, LoS RX beam: {2}\".format(action[0], exh_bdir[0], aoa))\n",
    " "
   ]
  },
  {
   "cell_type": "code",
   "execution_count": null,
   "metadata": {
    "pycharm": {
     "metadata": false,
     "name": "#%%\n"
    }
   },
   "outputs": [],
   "source": [
    "    print(learnt_rates)\n",
    "    #print(Exh_rates)\n",
    "    fig=plt.figure()\n",
    "    #Los_rate and learnt_rates CDF distribution\n",
    "    #x1 = np.sort(learnt_rates)\n",
    "    #y1 = np.arange(len(x1))/float(len(x1))\n",
    "    x1,y1 = E_CDF(learnt_rates)\n",
    "    \n",
    "    x3 = np.sort(Exh_rates)\n",
    "    y3 = np.arange(len(x3))/float(len(x3))\n",
    "    x3,y3 = E_CDF(Exh_rates)\n",
    "    \n",
    "    x2,y2 = E_CDF(Los_rates)\n",
    "    plt.plot(x1,y1, 'bx-', x2,y2, 'r-', x3,y3, 'g-')\n",
    "    plt.legend([\"Rl rate\", \"LoS rate\", \"Exh rate\"])\n",
    "    plt.title(\" Rate CDF plots\")\n",
    "    #plt.text(1.9, 0.7, 'Rate thr-{0} Gbit/s'.format(rate_thr), fontsize=9, bbox=dict(facecolor='blue', alpha=0.2))\n",
    "    \n",
    "    plt.xlabel('rate (Gbit/s)')\n",
    "    plt.ylabel('CDF rate')\n",
    "    plt.show()"
   ]
  },
  {
   "cell_type": "code",
   "execution_count": null,
   "metadata": {
    "pycharm": {
     "metadata": false,
     "name": "#%%\n"
    }
   },
   "outputs": [],
   "source": [
    "    fig=plt.figure(figsize=(12,12))\n",
    "    x = list(range(len(learnt_rates)))\n",
    "    ue_x =[str(ue_loc[i+1].tolist()) for i in x]\n",
    "    print(ue_x)\n",
    "    plt.plot(ue_x, learnt_rates,'bx-', ue_x, Exh_rates, 'g-', ue_x, Los_rates, 'r-')\n",
    "    plt.legend([\"RL rate\", \"Exh rate\", \"Los rate\"])\n",
    "    plt.title(\"UE moving from {0} to {1} with gnB at {2}\".format(ue_s, ue_d, [0,0,0]))\n",
    "    plt.ylabel('Rate (Gbit/s)')\n",
    "    #plt.yticks(np.arange(2.1, 2.6, step=0.1))\n",
    "    plt.xlabel('UE loc')\n",
    "    \n",
    "    \n",
    "    \n",
    "    #For rl_rate\n",
    "    y0 = np.mean(learnt_rates)\n",
    "    plt.axhline(np.mean(y0), color='b', linewidth=0.75, linestyle='--') \n",
    "    #plt.annotate('Avg: {:0.2f} Gbit/s'.format(y0), xy=(x[0]-.3,y0-0.005), xytext=(-20,-20),\n",
    "    #        xycoords=('data', 'data'), textcoords='offset points',\n",
    "    #        horizontalalignment='left', verticalalignment='top',\n",
    "    #        arrowprops=dict(arrowstyle='-|>', fc='b', shrinkA=0, shrinkB=0,\n",
    "    #                        connectionstyle='angle,angleA=0,angleB=90,rad=10'),\n",
    "    #       )\n",
    "    \n",
    "    #For Los rate\n",
    "    #y0 = np.mean(Los_rates)\n",
    "    #plt.axhline(np.mean(y0), color='r', linewidth=0.75, linestyle='--') \n",
    "    #plt.annotate('Avg: {:0.2f} Gbit/s'.format(y0), xy=(x[0]-.3,y0+.005), xytext=(-20,20),\n",
    "    #        xycoords=('data', 'data'), textcoords='offset points',\n",
    "    #        horizontalalignment='left', verticalalignment='bottom',\n",
    "    #        arrowprops=dict(arrowstyle='-|>', fc='r', shrinkA=0, shrinkB=0,\n",
    "    #                        connectionstyle='angle,angleA=0,angleB=90,rad=10'),\n",
    "    #        )    \n",
    "    #For exh rate\n",
    "    y0 = np.mean(Exh_rates)\n",
    "    plt.axhline(np.mean(y0), color='g', linewidth=0.75, linestyle='--') \n",
    "    #plt.annotate('Avg: {:0.2f} Gbit/s'.format(y0), xy=(x[0]-.3,y0), xytext=(-20,20),\n",
    "    #        xycoords=('data', 'data'), textcoords='offset points',\n",
    "    #        horizontalalignment='left', verticalalignment='bottom',\n",
    "    #        arrowprops=dict(arrowstyle='-|>', fc='green', shrinkA=0, shrinkB=0,\n",
    "    #                        connectionstyle='angle,angleA=0,angleB=90,rad=10'),\n",
    "    #        )    \n",
    "    plt.show()"
   ]
  },
  {
   "cell_type": "code",
   "execution_count": null,
   "metadata": {
    "pycharm": {
     "metadata": false,
     "name": "#%%\n"
    }
   },
   "outputs": [],
   "source": [
    "    #Benchmark Models\n",
    "    possible_ue_loc = np.array([np.array([x,ue_s[1],ue_s[2]]) for x in range(ue_s[0]+ue_v,ue_d[0]+1,ue_v)])\n",
    "    num_iters = 100\n",
    "    Exh_rates = np.zeros((num_iters,possible_ue_loc.shape[0]))\n",
    "    Los_rates = np.zeros((num_iters,possible_ue_loc.shape[0]))\n",
    "    Learnt_rates = np.zeros((num_iters,possible_ue_loc.shape[0]))\n",
    "    Exh_bdir = np.zeros((num_iters,possible_ue_loc.shape[0]))\n",
    "        \n",
    "        #print(possible_ue_loc)\n",
    "    for j in range(num_iters): \n",
    "        obs = agent.env.reset(ue_s, ue_v) #ue_t sent to gnB1\n",
    "        print(\"Initial Loc: {0}, Iteration: {1}\".format(ue_s, j+1))\n",
    "        \n",
    "        for i in range(possible_ue_loc.shape[0]):\n",
    "            ue_t = np.array(possible_ue_loc[i])\n",
    "            \n",
    "            #print(action)\n",
    "            obs, rwd, done = agent.env.step(action)\n",
    "            learnt_rate = agent.env.get_Rate()\n",
    "            \n",
    "            exh_bdir, exh_rate = agent.env.get_Exh_Rate(ue_t)\n",
    "            los_rate = agent.env.get_LoS_Rate(ue_t)\n",
    "            \n",
    "            print(\"ue: {0}, learnt_rate: {1}, los_rate: {2}, exh_rate: {3}\\n\".format(ue_t,learnt_rate, los_rate, exh_rate))\n",
    "            Exh_rates[j,i]=exh_rate\n",
    "            Los_rates[j,i]= los_rate\n",
    "            Exh_bdir[j, i]= exh_bdir\n",
    "            Learnt_rates[j,i] = learnt_rate\n",
    "    \n",
    "    fig=plt.figure(figsize=(12,12))\n",
    "    # = list(range(len(learnt_rates)))\n",
    "    ue_x =[str(x.tolist()) for x in possible_ue_loc]\n",
    "    exh_y = np.mean(Exh_rates,axis=0) #[np.mean(Exh_rates[:, i]) for i in range(len(ue_x))]\n",
    "    Los_y = np.mean(Los_rates, axis=0)\n",
    "    RL_y = np.mean(Learnt_rates, axis=0)\n",
    "    plt.plot(ue_x, RL_y, 'bx-', ue_x, exh_y, 'g-', ue_x, Los_y, 'r-')\n",
    "    \n",
    "    plt.legend([\"RL rate\", \"Exh rate\", \"LoS rate\"])\n",
    "    plt.title(\"UE moving from {0} to {1} with gnB at {2}\".format(ue_s, ue_d, [0,0,0]))\n",
    "    plt.ylabel('Rate (Gbit/s)')\n",
    "    plt.xlabel('UE loc')\n",
    "    #plt.yticks(np.arange(2.1, 2.4, step=0.1))\n",
    "    y0 = np.mean(Exh_rates)\n",
    "    plt.axhline(np.mean(y0), color='g', linewidth=0.75, linestyle='--')\n",
    "    \n",
    "    y0 = np.mean(Los_rates)\n",
    "    plt.axhline(np.mean(y0), color='r', linewidth=0.75, linestyle='--')\n",
    "    \n",
    "    y0 = np.mean(Learnt_rates)\n",
    "    plt.axhline(np.mean(y0), color='b', linewidth=0.75, linestyle='--')\n",
    "    \n",
    "    \n",
    "    plt.show()"
   ]
  },
  {
   "cell_type": "code",
   "execution_count": 0,
   "metadata": {
    "collapsed": true,
    "pycharm": {
     "is_executing": false
    }
   },
   "outputs": [],
   "source": []
  }
 ],
 "metadata": {
  "kernelspec": {
   "display_name": "Python 3",
   "language": "python",
   "name": "python3"
  },
  "language_info": {
   "codemirror_mode": {
    "name": "ipython",
    "version": 3
   },
   "file_extension": ".py",
   "mimetype": "text/x-python",
   "name": "python",
   "nbconvert_exporter": "python",
   "pygments_lexer": "ipython3",
   "version": "3.6.6"
  },
  "stem_cell": {
   "cell_type": "raw",
   "metadata": {
    "pycharm": {
     "metadata": false
    }
   },
   "source": ""
  }
 },
 "nbformat": 4,
 "nbformat_minor": 1
}
